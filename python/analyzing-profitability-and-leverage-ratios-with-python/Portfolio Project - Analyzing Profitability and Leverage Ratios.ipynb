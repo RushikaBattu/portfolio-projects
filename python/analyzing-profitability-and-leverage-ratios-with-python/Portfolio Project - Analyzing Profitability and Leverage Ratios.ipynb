{
 "cells": [
  {
   "cell_type": "markdown",
   "id": "6fd43f2e",
   "metadata": {},
   "source": [
    "## Analyzing Profitability and Leverage Ratios"
   ]
  },
  {
   "cell_type": "markdown",
   "id": "46c7cdbb",
   "metadata": {},
   "source": [
    "This Python notebook is tailored for financial analysis, with a specific emphasis on evaluating financial ratios to make well-informed investment decisions, particularly within the real estate sector. \n",
    "\n",
    "The main goal is to compute and interpret financial ratios, specifically those pertaining to profitability and leverage, using income statements and balance sheets. This analysis is intended to offer insights into the performance and risk characteristics of these companies, providing valuable information for an investment analysis.\n"
   ]
  },
  {
   "cell_type": "markdown",
   "id": "f1d6b4d6",
   "metadata": {},
   "source": [
    "## Importing Libraries and Reading the Data"
   ]
  },
  {
   "cell_type": "code",
   "execution_count": 1,
   "id": "6cb1321e",
   "metadata": {},
   "outputs": [],
   "source": [
    "# importing libraries\n",
    "import numpy as np\n",
    "import pandas as pd\n",
    "import seaborn as sns"
   ]
  },
  {
   "cell_type": "code",
   "execution_count": 3,
   "id": "ab293d7e",
   "metadata": {},
   "outputs": [],
   "source": [
    "# Read in the files\n",
    "balance_sheet = pd.read_excel(\"datasets/Balance_Sheet.xlsx\")\n",
    "income_statement = pd.read_excel(\"datasets/Income_Statement.xlsx\")"
   ]
  },
  {
   "cell_type": "markdown",
   "id": "891e256d",
   "metadata": {},
   "source": [
    "## Exploring the Data"
   ]
  },
  {
   "cell_type": "code",
   "execution_count": 5,
   "id": "0297c415",
   "metadata": {},
   "outputs": [
    {
     "data": {
      "text/html": [
       "<div>\n",
       "<style scoped>\n",
       "    .dataframe tbody tr th:only-of-type {\n",
       "        vertical-align: middle;\n",
       "    }\n",
       "\n",
       "    .dataframe tbody tr th {\n",
       "        vertical-align: top;\n",
       "    }\n",
       "\n",
       "    .dataframe thead th {\n",
       "        text-align: right;\n",
       "    }\n",
       "</style>\n",
       "<table border=\"1\" class=\"dataframe\">\n",
       "  <thead>\n",
       "    <tr style=\"text-align: right;\">\n",
       "      <th></th>\n",
       "      <th>Unnamed: 0</th>\n",
       "      <th>Year</th>\n",
       "      <th>comp_type</th>\n",
       "      <th>company</th>\n",
       "      <th>Accounts Payable</th>\n",
       "      <th>Cash</th>\n",
       "      <th>Inventory</th>\n",
       "      <th>Property Plant Equipment</th>\n",
       "      <th>Short Term Investments</th>\n",
       "      <th>Total Assets</th>\n",
       "      <th>Total Current Assets</th>\n",
       "      <th>Total Current Liabilities</th>\n",
       "      <th>Total Liab</th>\n",
       "      <th>Total Stockholder Equity</th>\n",
       "    </tr>\n",
       "  </thead>\n",
       "  <tbody>\n",
       "    <tr>\n",
       "      <th>0</th>\n",
       "      <td>0</td>\n",
       "      <td>2019</td>\n",
       "      <td>tech</td>\n",
       "      <td>AAPL</td>\n",
       "      <td>46236000000</td>\n",
       "      <td>48844000000</td>\n",
       "      <td>4.106000e+09</td>\n",
       "      <td>37378000000</td>\n",
       "      <td>5.171300e+10</td>\n",
       "      <td>338516000000</td>\n",
       "      <td>162819000000</td>\n",
       "      <td>105718000000</td>\n",
       "      <td>248028000000</td>\n",
       "      <td>90488000000</td>\n",
       "    </tr>\n",
       "    <tr>\n",
       "      <th>1</th>\n",
       "      <td>1</td>\n",
       "      <td>2020</td>\n",
       "      <td>tech</td>\n",
       "      <td>AAPL</td>\n",
       "      <td>42296000000</td>\n",
       "      <td>38016000000</td>\n",
       "      <td>4.061000e+09</td>\n",
       "      <td>45336000000</td>\n",
       "      <td>5.292700e+10</td>\n",
       "      <td>323888000000</td>\n",
       "      <td>143713000000</td>\n",
       "      <td>105392000000</td>\n",
       "      <td>258549000000</td>\n",
       "      <td>65339000000</td>\n",
       "    </tr>\n",
       "    <tr>\n",
       "      <th>2</th>\n",
       "      <td>2</td>\n",
       "      <td>2021</td>\n",
       "      <td>tech</td>\n",
       "      <td>AAPL</td>\n",
       "      <td>54763000000</td>\n",
       "      <td>34940000000</td>\n",
       "      <td>6.580000e+09</td>\n",
       "      <td>49527000000</td>\n",
       "      <td>2.769900e+10</td>\n",
       "      <td>351002000000</td>\n",
       "      <td>134836000000</td>\n",
       "      <td>125481000000</td>\n",
       "      <td>287912000000</td>\n",
       "      <td>63090000000</td>\n",
       "    </tr>\n",
       "    <tr>\n",
       "      <th>3</th>\n",
       "      <td>3</td>\n",
       "      <td>2022</td>\n",
       "      <td>tech</td>\n",
       "      <td>AAPL</td>\n",
       "      <td>64115000000</td>\n",
       "      <td>23646000000</td>\n",
       "      <td>4.946000e+09</td>\n",
       "      <td>84234000000</td>\n",
       "      <td>2.465800e+10</td>\n",
       "      <td>352755000000</td>\n",
       "      <td>135405000000</td>\n",
       "      <td>153982000000</td>\n",
       "      <td>302083000000</td>\n",
       "      <td>50672000000</td>\n",
       "    </tr>\n",
       "    <tr>\n",
       "      <th>4</th>\n",
       "      <td>4</td>\n",
       "      <td>2019</td>\n",
       "      <td>tech</td>\n",
       "      <td>MSFT</td>\n",
       "      <td>9382000000</td>\n",
       "      <td>11356000000</td>\n",
       "      <td>2.063000e+09</td>\n",
       "      <td>43856000000</td>\n",
       "      <td>1.224760e+11</td>\n",
       "      <td>286556000000</td>\n",
       "      <td>175552000000</td>\n",
       "      <td>69420000000</td>\n",
       "      <td>184226000000</td>\n",
       "      <td>102330000000</td>\n",
       "    </tr>\n",
       "  </tbody>\n",
       "</table>\n",
       "</div>"
      ],
      "text/plain": [
       "   Unnamed: 0  Year comp_type company  Accounts Payable         Cash  \\\n",
       "0           0  2019      tech    AAPL       46236000000  48844000000   \n",
       "1           1  2020      tech    AAPL       42296000000  38016000000   \n",
       "2           2  2021      tech    AAPL       54763000000  34940000000   \n",
       "3           3  2022      tech    AAPL       64115000000  23646000000   \n",
       "4           4  2019      tech    MSFT        9382000000  11356000000   \n",
       "\n",
       "      Inventory  Property Plant Equipment  Short Term Investments  \\\n",
       "0  4.106000e+09               37378000000            5.171300e+10   \n",
       "1  4.061000e+09               45336000000            5.292700e+10   \n",
       "2  6.580000e+09               49527000000            2.769900e+10   \n",
       "3  4.946000e+09               84234000000            2.465800e+10   \n",
       "4  2.063000e+09               43856000000            1.224760e+11   \n",
       "\n",
       "   Total Assets  Total Current Assets  Total Current Liabilities  \\\n",
       "0  338516000000          162819000000               105718000000   \n",
       "1  323888000000          143713000000               105392000000   \n",
       "2  351002000000          134836000000               125481000000   \n",
       "3  352755000000          135405000000               153982000000   \n",
       "4  286556000000          175552000000                69420000000   \n",
       "\n",
       "     Total Liab  Total Stockholder Equity  \n",
       "0  248028000000               90488000000  \n",
       "1  258549000000               65339000000  \n",
       "2  287912000000               63090000000  \n",
       "3  302083000000               50672000000  \n",
       "4  184226000000              102330000000  "
      ]
     },
     "execution_count": 5,
     "metadata": {},
     "output_type": "execute_result"
    }
   ],
   "source": [
    "# Display balance_sheet\n",
    "balance_sheet.head()"
   ]
  },
  {
   "cell_type": "code",
   "execution_count": 6,
   "id": "ca09d1f7",
   "metadata": {
    "scrolled": true
   },
   "outputs": [
    {
     "data": {
      "text/html": [
       "<div>\n",
       "<style scoped>\n",
       "    .dataframe tbody tr th:only-of-type {\n",
       "        vertical-align: middle;\n",
       "    }\n",
       "\n",
       "    .dataframe tbody tr th {\n",
       "        vertical-align: top;\n",
       "    }\n",
       "\n",
       "    .dataframe thead th {\n",
       "        text-align: right;\n",
       "    }\n",
       "</style>\n",
       "<table border=\"1\" class=\"dataframe\">\n",
       "  <thead>\n",
       "    <tr style=\"text-align: right;\">\n",
       "      <th></th>\n",
       "      <th>Unnamed: 0</th>\n",
       "      <th>Year</th>\n",
       "      <th>comp_type</th>\n",
       "      <th>company</th>\n",
       "      <th>Cost Of Goods Sold</th>\n",
       "      <th>Gross Profit</th>\n",
       "      <th>Operating Income</th>\n",
       "      <th>Total Operating Expenses</th>\n",
       "      <th>Total Revenue</th>\n",
       "    </tr>\n",
       "  </thead>\n",
       "  <tbody>\n",
       "    <tr>\n",
       "      <th>0</th>\n",
       "      <td>0</td>\n",
       "      <td>2019</td>\n",
       "      <td>tech</td>\n",
       "      <td>AAPL</td>\n",
       "      <td>161782000000</td>\n",
       "      <td>98392000000</td>\n",
       "      <td>63930000000</td>\n",
       "      <td>196244000000</td>\n",
       "      <td>260174000000</td>\n",
       "    </tr>\n",
       "    <tr>\n",
       "      <th>1</th>\n",
       "      <td>1</td>\n",
       "      <td>2020</td>\n",
       "      <td>tech</td>\n",
       "      <td>AAPL</td>\n",
       "      <td>169559000000</td>\n",
       "      <td>104956000000</td>\n",
       "      <td>66288000000</td>\n",
       "      <td>208227000000</td>\n",
       "      <td>274515000000</td>\n",
       "    </tr>\n",
       "    <tr>\n",
       "      <th>2</th>\n",
       "      <td>2</td>\n",
       "      <td>2021</td>\n",
       "      <td>tech</td>\n",
       "      <td>AAPL</td>\n",
       "      <td>212981000000</td>\n",
       "      <td>152836000000</td>\n",
       "      <td>108949000000</td>\n",
       "      <td>256868000000</td>\n",
       "      <td>365817000000</td>\n",
       "    </tr>\n",
       "    <tr>\n",
       "      <th>3</th>\n",
       "      <td>3</td>\n",
       "      <td>2022</td>\n",
       "      <td>tech</td>\n",
       "      <td>AAPL</td>\n",
       "      <td>223546000000</td>\n",
       "      <td>170782000000</td>\n",
       "      <td>119437000000</td>\n",
       "      <td>274891000000</td>\n",
       "      <td>394328000000</td>\n",
       "    </tr>\n",
       "    <tr>\n",
       "      <th>4</th>\n",
       "      <td>4</td>\n",
       "      <td>2019</td>\n",
       "      <td>tech</td>\n",
       "      <td>MSFT</td>\n",
       "      <td>42910000000</td>\n",
       "      <td>82933000000</td>\n",
       "      <td>42959000000</td>\n",
       "      <td>82884000000</td>\n",
       "      <td>125843000000</td>\n",
       "    </tr>\n",
       "  </tbody>\n",
       "</table>\n",
       "</div>"
      ],
      "text/plain": [
       "   Unnamed: 0  Year comp_type company  Cost Of Goods Sold  Gross Profit  \\\n",
       "0           0  2019      tech    AAPL        161782000000   98392000000   \n",
       "1           1  2020      tech    AAPL        169559000000  104956000000   \n",
       "2           2  2021      tech    AAPL        212981000000  152836000000   \n",
       "3           3  2022      tech    AAPL        223546000000  170782000000   \n",
       "4           4  2019      tech    MSFT         42910000000   82933000000   \n",
       "\n",
       "   Operating Income  Total Operating Expenses  Total Revenue  \n",
       "0       63930000000              196244000000   260174000000  \n",
       "1       66288000000              208227000000   274515000000  \n",
       "2      108949000000              256868000000   365817000000  \n",
       "3      119437000000              274891000000   394328000000  \n",
       "4       42959000000               82884000000   125843000000  "
      ]
     },
     "execution_count": 6,
     "metadata": {},
     "output_type": "execute_result"
    }
   ],
   "source": [
    "# Display income_statement\n",
    "income_statement.head()"
   ]
  },
  {
   "cell_type": "markdown",
   "id": "60ccc807",
   "metadata": {},
   "source": [
    "## Merging Datasets"
   ]
  },
  {
   "cell_type": "code",
   "execution_count": 7,
   "id": "b9060830",
   "metadata": {},
   "outputs": [],
   "source": [
    "# Merge both the dataframes\n",
    "df_ratios = pd.merge(income_statement, balance_sheet, on = [\"Year\", \"company\", \"comp_type\"])"
   ]
  },
  {
   "cell_type": "markdown",
   "id": "5d33f829",
   "metadata": {},
   "source": [
    "## Computing Profitability Ratios"
   ]
  },
  {
   "cell_type": "code",
   "execution_count": 22,
   "id": "4b8328e6",
   "metadata": {},
   "outputs": [],
   "source": [
    "# Compute gross margin ratio\n",
    "df_ratios[\"gross_margin_profitability_ratio\"] = (df_ratios[\"Total Revenue\"] - df_ratios[\"Cost Of Goods Sold\"])/df_ratios[\"Total Revenue\"]\n",
    "\n",
    "# Compute operating margin ratio\n",
    "df_ratios[\"operating_margin_profitability_ratio\"] = (df_ratios[\"Total Revenue\"] - df_ratios[\"Total Operating Expenses\"])/df_ratios[\"Total Revenue\"]"
   ]
  },
  {
   "cell_type": "markdown",
   "id": "bfa81dda",
   "metadata": {},
   "source": [
    "## Computing Leverage Ratios"
   ]
  },
  {
   "cell_type": "code",
   "execution_count": 10,
   "id": "2ad550d4",
   "metadata": {},
   "outputs": [],
   "source": [
    "# Compute debt-to-equity ratio\n",
    "df_ratios[\"debt_to_equity_leverage_ratio\"] = df_ratios[\"Total Liab\"]/df_ratios[\"Total Stockholder Equity\"]\n",
    "\n",
    "# Compute equity multiplier ratio\n",
    "df_ratios[\"equity_multiplier_leverage_ratio\"] = df_ratios[\"Total Assets\"]/df_ratios[\"Total Stockholder Equity\"]\n"
   ]
  },
  {
   "cell_type": "markdown",
   "id": "fc207f9b",
   "metadata": {},
   "source": [
    "## Lowest Average Profitability Ratio"
   ]
  },
  {
   "cell_type": "code",
   "execution_count": 15,
   "id": "ca5a7a69",
   "metadata": {},
   "outputs": [
    {
     "name": "stdout",
     "output_type": "stream",
     "text": [
      "           operating_margin_profitability_ratio\n",
      "comp_type                                      \n",
      "fmcg                                   0.207112\n",
      "real_est                               0.299938\n",
      "tech                                   0.273889\n"
     ]
    }
   ],
   "source": [
    "# Using pivot table to see the \"comp_type\" with the lowest average profitability ratio\n",
    "print(df_ratios.pivot_table(index=\"comp_type\", values= \"operating_margin_profitability_ratio\"))"
   ]
  },
  {
   "cell_type": "markdown",
   "id": "35d572bd",
   "metadata": {},
   "source": [
    "##### The industry with the lowest profitability is Fast-Moving Consumer Goods (fmcg)."
   ]
  },
  {
   "cell_type": "markdown",
   "id": "9a579170",
   "metadata": {},
   "source": [
    "## Highest Average Leverage Ratio"
   ]
  },
  {
   "cell_type": "code",
   "execution_count": 17,
   "id": "756e67d3",
   "metadata": {},
   "outputs": [
    {
     "name": "stdout",
     "output_type": "stream",
     "text": [
      "           debt_to_equity_leverage_ratio\n",
      "comp_type                               \n",
      "fmcg                            2.997896\n",
      "real_est                        5.692041\n",
      "tech                            1.777448\n"
     ]
    }
   ],
   "source": [
    "# Using pivot table to see the \"comp_type\" with the highest average leverage ratio\n",
    "print(df_ratios.pivot_table(index=\"comp_type\", values=\"debt_to_equity_leverage_ratio\"))"
   ]
  },
  {
   "cell_type": "markdown",
   "id": "23bd5226",
   "metadata": {},
   "source": [
    "##### The industry with the highest leverage is Real Estate."
   ]
  },
  {
   "cell_type": "markdown",
   "id": "ae9eb370",
   "metadata": {},
   "source": [
    "## Relationship between Leverage and Profitability in the Real Estate Companies "
   ]
  },
  {
   "cell_type": "code",
   "execution_count": 23,
   "id": "9abe030d",
   "metadata": {},
   "outputs": [
    {
     "data": {
      "image/png": "[encoded data removed]",
      "text/plain": [
       "<Figure size 640x480 with 1 Axes>"
      ]
     },
     "metadata": {},
     "output_type": "display_data"
    }
   ],
   "source": [
    "# Scatter Plot \n",
    "df_real_est = df_ratios.loc[df_ratios[\"comp_type\"]==\"real_est\"]\n",
    "plot = sns.regplot(data=df_real_est, x=\"debt_to_equity_leverage_ratio\", y=\"operating_margin_profitability_ratio\")"
   ]
  },
  {
   "cell_type": "markdown",
   "id": "98aab92b",
   "metadata": {},
   "source": [
    "##### The plot shows that the relationship is positive, so the real estate companies with higher leverage ratio have higher profitability."
   ]
  }
 ],
 "metadata": {
  "kernelspec": {
   "display_name": "Python 3 (ipykernel)",
   "language": "python",
   "name": "python3"
  },
  "language_info": {
   "codemirror_mode": {
    "name": "ipython",
    "version": 3
   },
   "file_extension": ".py",
   "mimetype": "text/x-python",
   "name": "python",
   "nbconvert_exporter": "python",
   "pygments_lexer": "ipython3",
   "version": "3.10.9"
  }
 },
 "nbformat": 4,
 "nbformat_minor": 5
}
